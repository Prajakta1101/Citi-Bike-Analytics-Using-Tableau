{
 "cells": [
  {
   "cell_type": "code",
   "execution_count": 1,
   "metadata": {},
   "outputs": [],
   "source": [
    "# Dependencies\n",
    "import pandas as pd\n",
    "import numpy as np"
   ]
  },
  {
   "cell_type": "code",
   "execution_count": 2,
   "metadata": {},
   "outputs": [],
   "source": [
    "# Reading CSV files of Jan'20, Feb'20, Mar'20 & April'20 (COVID'19 phase)\n",
    "_01_20 = pd.read_csv('202001-citibike-tripdata.csv')\n",
    "_02_20 = pd.read_csv('202002-citibike-tripdata.csv')\n",
    "_03_20 = pd.read_csv('202003-citibike-tripdata.csv')\n",
    "_04_20 = pd.read_csv('202004-citibike-tripdata.csv')\n",
    "\n",
    "# Reading CSV files of Jan'19, Feb'19, Mar'19 & April'19\n",
    "_01_19 = pd.read_csv('201901-citibike-tripdata.csv')\n",
    "_02_19 = pd.read_csv('201902-citibike-tripdata.csv')\n",
    "_03_19 = pd.read_csv('201903-citibike-tripdata.csv')\n",
    "_04_19 = pd.read_csv('201904-citibike-tripdata.csv')"
   ]
  },
  {
   "cell_type": "code",
   "execution_count": 3,
   "metadata": {},
   "outputs": [],
   "source": [
    "#Merging the files for 2020\n",
    "file_2020 = _01_20.append([_02_20,_03_20,_04_20], ignore_index=True)\n",
    "\n",
    "##Merging the files for 2019\n",
    "file_2019 = _01_19.append([_02_19,_03_19,_04_19], ignore_index=True)"
   ]
  },
  {
   "cell_type": "code",
   "execution_count": 4,
   "metadata": {},
   "outputs": [],
   "source": [
    "# Cleaning the 2020 data file\n",
    "\n",
    "# Converting gender coding into gender names\n",
    "file_2020['gender']=file_2020['gender'].astype(str)\n",
    "file_2020['gender'] = file_2020['gender'].replace(['0', '1', '2'], ['Unknown', 'Male', 'Female'])"
   ]
  },
  {
   "cell_type": "code",
   "execution_count": 5,
   "metadata": {},
   "outputs": [],
   "source": [
    "# Cleaning the 2019 data file\n",
    "\n",
    "# Converting gender coding into gender names\n",
    "file_2019['gender']=file_2019['gender'].astype(str)\n",
    "file_2019['gender'] = file_2019['gender'].replace(['0', '1', '2'], ['Unknown', 'Male', 'Female'])"
   ]
  },
  {
   "cell_type": "code",
   "execution_count": 10,
   "metadata": {},
   "outputs": [],
   "source": [
    "# Exporting CSV\n",
    "\n",
    "Citybike_20= file_2020.to_csv(\"Citybike_2020.csv\", index=False)\n",
    "Citybike_19= file_2019.to_csv(\"Citybike_2019.csv\", index=False)\n",
    "\n",
    "#Citybike_20= file_2020.to_json(\"Citybike_2020.json\", orient='records')\n",
    "#Citybike_19= file_2019.to_json(\"Citybike_2019.json\", orient='records')"
   ]
  },
  {
   "cell_type": "code",
   "execution_count": null,
   "metadata": {},
   "outputs": [],
   "source": []
  }
 ],
 "metadata": {
  "kernelspec": {
   "display_name": "Python 3.7.4 64-bit ('base': conda)",
   "language": "python",
   "name": "python37464bitbaseconda1951058c44644af198e3a4f39b9ae831"
  },
  "language_info": {
   "codemirror_mode": {
    "name": "ipython",
    "version": 3
   },
   "file_extension": ".py",
   "mimetype": "text/x-python",
   "name": "python",
   "nbconvert_exporter": "python",
   "pygments_lexer": "ipython3",
   "version": "3.7.4"
  }
 },
 "nbformat": 4,
 "nbformat_minor": 2
}
